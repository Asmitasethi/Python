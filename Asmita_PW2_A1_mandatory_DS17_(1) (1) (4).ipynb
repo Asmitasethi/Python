{
  "cells": [
    {
      "cell_type": "markdown",
      "metadata": {
        "nbgrader": {
          "grade": false,
          "grade_id": "cell-39806162dd625703",
          "locked": true,
          "schema_version": 3,
          "solution": false,
          "task": false
        },
        "id": "_MWMZKf3dAAF"
      },
      "source": [
        "# Python W2 - Assignment 01 (Mandatory)"
      ]
    },
    {
      "cell_type": "markdown",
      "metadata": {
        "nbgrader": {
          "grade": false,
          "grade_id": "Q1",
          "locked": true,
          "schema_version": 3,
          "solution": false,
          "task": false
        },
        "id": "iDI6C0hKdAAe"
      },
      "source": [
        "### 1. String Manipulation (Total marks 1)\n",
        "\n",
        "Match the following string methods with the respective output in the below options\n",
        "\n",
        "Here,\n",
        " `string= \"this is old python course\"`"
      ]
    },
    {
      "cell_type": "markdown",
      "metadata": {
        "id": "zZCI6hqkdAAj"
      },
      "source": [
        "| Statement | Output |\n",
        "| --- | --- |\n",
        "| (a) string.count(\"is\") | (1) True |\n",
        "| (b) string.replace(\"old\", \"new\") | (2) 12 |\n",
        "| (c) string.index(\"python\") | (3) 'this is new python course' |\n",
        "| (d) string.startswith(\"this\") | (4) 2 |\n",
        "| (e) string.isalnum() | (5) False |\n",
        "| (g) string.strip(\"this is old\") | (6) 'python course' |"
      ]
    },
    {
      "cell_type": "markdown",
      "source": [
        "**Answer**"
      ],
      "metadata": {
        "id": "5pMAWP1Zz0jD"
      }
    },
    {
      "cell_type": "markdown",
      "source": [
        "| Statement | Output |\n",
        "| --- | --- |\n",
        "| (a) string.count(\"is\") | (4) 2 |\n",
        "| (b) string.replace(\"old\", \"new\") | (3) 'this is new python course'  |\n",
        "| (c) string.index(\"python\") | (2) 12 |\n",
        "| (d) string.startswith(\"this\") | (1) True |\n",
        "| (e) string.isalnum() | (5) False |\n",
        "| (g) string.strip(\"this is old\") | (6) 'python course' |'"
      ],
      "metadata": {
        "id": "_d05QBrkxWFn"
      }
    },
    {
      "cell_type": "markdown",
      "metadata": {
        "nbgrader": {
          "grade": false,
          "grade_id": "cell-a13189a026c3771d",
          "locked": true,
          "schema_version": 3,
          "solution": false,
          "task": false
        },
        "id": "suJPx3OXdAAx"
      },
      "source": [
        "###2. Nested Conditions (Total marks 1)\n",
        "\n",
        "\n"
      ]
    },
    {
      "cell_type": "code",
      "execution_count": null,
      "metadata": {
        "id": "peNPBncsdAA1"
      },
      "outputs": [],
      "source": [
        "x = int(input())\n",
        "y = int(input())\n",
        "z = int(input())\n",
        "\n",
        "#Block-1 Start\n",
        "\n",
        "if x > 0 or y> 0 or z > 0:\n",
        "    if (x > 0 and y> 0) or (y> 0 and z> 0) or (z> 0 and x > 0):\n",
        "        if x > 0 and y> 0 and z > 0:\n",
        "            print('P3')\n",
        "        else:\n",
        "            print('P2')\n",
        "    else:\n",
        "        print('P1')\n",
        "\n",
        "#Block-1 End\n",
        "\n",
        "\n",
        "# Block-2 Start\n",
        "\n",
        "if x <0 or y<0 or z < 0:\n",
        "    if (x < 0 and y< 0) or (y< 0 and z< 0) or (z< 0 and x < 0):\n",
        "            if x < 0 and y< 0 and z < 0:\n",
        "                print('N3')\n",
        "            else:\n",
        "                print('N2')\n",
        "    else:\n",
        "        print('N1')\n",
        "\n",
        "\n",
        "#Block-2 End"
      ]
    },
    {
      "cell_type": "markdown",
      "metadata": {
        "id": "4HD_9ad_dABC"
      },
      "source": [
        "What will be the output for the below input of x,y and z?\n",
        "\n",
        "x= -1\n",
        "y= 4\n",
        "z= 1"
      ]
    },
    {
      "cell_type": "markdown",
      "metadata": {
        "nbgrader": {
          "grade": true,
          "grade_id": "cell-5b0ec5b5f53b7705",
          "locked": false,
          "points": 2,
          "schema_version": 3,
          "solution": true,
          "task": false
        },
        "id": "d4fed__4dABD"
      },
      "source": [
        "**Answer**"
      ]
    },
    {
      "cell_type": "code",
      "source": [
        "x = int(input())\n",
        "y = int(input())\n",
        "z = int(input())\n",
        "\n",
        "#Block-1 Start\n",
        "\n",
        "if x > 0 or y> 0 or z > 0:\n",
        "    if (x > 0 and y> 0) or (y> 0 and z> 0) or (z> 0 and x > 0):\n",
        "        if x > 0 and y> 0 and z > 0:\n",
        "            print('P3')\n",
        "        else:\n",
        "            print('P2')\n",
        "    else:\n",
        "        print('P1')\n",
        "\n",
        "#Block-1 End\n",
        "\n",
        "\n",
        "# Block-2 Start\n",
        "\n",
        "if x <0 or y<0 or z < 0:\n",
        "    if (x < 0 and y< 0) or (y< 0 and z< 0) or (z< 0 and x < 0):\n",
        "            if x < 0 and y< 0 and z < 0:\n",
        "                print('N3')\n",
        "            else:\n",
        "                print('N2')\n",
        "    else:\n",
        "        print('N1')\n",
        "\n"
      ],
      "metadata": {
        "colab": {
          "base_uri": "https://localhost:8080/"
        },
        "id": "I5plySBr00fw",
        "outputId": "064ac0f4-e236-4393-b247-3aa28d98f92e"
      },
      "execution_count": null,
      "outputs": [
        {
          "output_type": "stream",
          "name": "stdout",
          "text": [
            "-1\n",
            "4\n",
            "1\n",
            "P2\n",
            "N1\n"
          ]
        }
      ]
    },
    {
      "cell_type": "markdown",
      "source": [
        "for block 1 it will print P2\n",
        "\n",
        "for block 2 it will print N1"
      ],
      "metadata": {
        "id": "WXf06sf-1QcF"
      }
    },
    {
      "cell_type": "markdown",
      "metadata": {
        "nbgrader": {
          "grade": false,
          "grade_id": "Q2",
          "locked": true,
          "schema_version": 3,
          "solution": false,
          "task": false
        },
        "id": "AehYVQbcdABE"
      },
      "source": [
        "### 3. String slicing (Total marks 2)\n"
      ]
    },
    {
      "cell_type": "code",
      "execution_count": null,
      "metadata": {
        "id": "-_LQTZOvdABE"
      },
      "outputs": [],
      "source": [
        "a = int(input())\n",
        "\n",
        "b= int(input())\n",
        "\n",
        "c= int(input())\n",
        "\n",
        "d = int(input())\n",
        "\n",
        "e = int(input())\n",
        "\n",
        "print(s[-a:-len(s):-3])\n",
        "\n",
        "print (s[::-b])\n",
        "\n",
        "print (s[c:0:-3])\n",
        "\n",
        "print (s[len(s): - d:-3])\n",
        "\n",
        "print (s[:e:-3])"
      ]
    },
    {
      "cell_type": "markdown",
      "metadata": {
        "nbgrader": {
          "grade": true,
          "grade_id": "A2",
          "locked": false,
          "points": 2,
          "schema_version": 3,
          "solution": true,
          "task": false
        },
        "id": "Ug6KurAMdABF"
      },
      "source": [
        "Consider that the string `s='abcdefghijklmnopqrstuvwxyz'`\\\n",
        "For what user input of a, b, c, d and e (where 0 <= a,b,c,d,e< len(s) ) does the above code-snippet print following output?\\\n",
        "It is a Numerical Answer Type (NAT) question. Enter your input value separated by, without any space like: 7,15,0,4,0\n",
        "\n",
        "`zwtqnkheb`\n",
        "\n",
        "`zwtqnkheb`\n",
        "\n",
        "`zwtqnkheb`\n",
        "\n",
        "`zwtqnkheb`\n",
        "\n",
        "`zwtqnkheb`"
      ]
    },
    {
      "cell_type": "markdown",
      "source": [
        "**Answer** "
      ],
      "metadata": {
        "id": "Kr4FjCBRFFAc"
      }
    },
    {
      "cell_type": "code",
      "source": [
        "\n",
        "\n",
        "s='abcdefghijklmnopqrstuvwxyz'\n",
        "a = int(input())\n",
        "\n",
        "b= int(input())\n",
        "\n",
        "c= int(input())\n",
        "\n",
        "d = int(input())\n",
        "\n",
        "e = int(input())\n",
        "\n",
        "print(s[-a:-len(s):-3])\n",
        "\n",
        "print (s[::-b])\n",
        "\n",
        "print (s[c:0:-3])\n",
        "\n",
        "print (s[len(s): - d:-3])\n",
        "\n",
        "print (s[:e:-3])"
      ],
      "metadata": {
        "colab": {
          "base_uri": "https://localhost:8080/"
        },
        "id": "TdSq31io3E36",
        "outputId": "fd812b1e-1887-4bf1-8f65-1bf62ee5337a"
      },
      "execution_count": null,
      "outputs": [
        {
          "output_type": "stream",
          "name": "stdout",
          "text": [
            "1\n",
            "3\n",
            "25\n",
            "26\n",
            "0\n",
            "zwtqnkheb\n",
            "zwtqnkheb\n",
            "zwtqnkheb\n",
            "zwtqnkheb\n",
            "zwtqnkheb\n"
          ]
        }
      ]
    },
    {
      "cell_type": "markdown",
      "source": [
        "**Answer**\n",
        "\n",
        "1,3,25,26,0\n",
        "\n",
        "a = 1\n",
        "b = 3\n",
        "c = 25\n",
        "d = 26\n",
        "e = 0"
      ],
      "metadata": {
        "id": "y1CC7n-9MTWu"
      }
    },
    {
      "cell_type": "markdown",
      "metadata": {
        "nbgrader": {
          "grade": false,
          "grade_id": "Q3",
          "locked": true,
          "schema_version": 3,
          "solution": false,
          "task": false
        },
        "id": "g6odSQWCdABG"
      },
      "source": [
        "### 4. Code Brackets (Total marks 2)\n",
        "\n",
        "Consider the program in the code cell below;"
      ]
    },
    {
      "cell_type": "code",
      "execution_count": null,
      "metadata": {
        "id": "M2zDUzGZdABH"
      },
      "outputs": [],
      "source": [
        "match= False\n",
        "if s.count('(') == s.count(')'):\n",
        "    if s.count('{') == s.count('}'):\n",
        "        if s.count('[') == s.count(']'):\n",
        "            match = True"
      ]
    },
    {
      "cell_type": "markdown",
      "metadata": {
        "nbgrader": {
          "grade": true,
          "grade_id": "A3",
          "locked": false,
          "points": 2,
          "schema_version": 3,
          "solution": true,
          "task": false
        },
        "id": "mFmzWpr1dABI"
      },
      "source": [
        "If s = \"abcd(efgh(ijkl}{{}))\" what will be the value of match at the end of execution and justification?\n",
        "\n",
        "1. False, the number of opening and closing brackets are only considered\n",
        "2. False, the position of opening and closing brackets are not considered.\n",
        "3. True, the number of opening and closing brackets are only considered\n",
        "4. True, the number and position of opening and closing brackets are considered.\n"
      ]
    },
    {
      "cell_type": "code",
      "execution_count": null,
      "metadata": {
        "nbgrader": {
          "grade": false,
          "grade_id": "cell-f0e0b9c35862e705",
          "locked": true,
          "schema_version": 3,
          "solution": false,
          "task": false
        },
        "colab": {
          "base_uri": "https://localhost:8080/"
        },
        "id": "vg4RHSRbdABI",
        "outputId": "12bd766c-90b7-4200-c5a8-7f7524b8efee"
      },
      "outputs": [
        {
          "output_type": "stream",
          "name": "stdout",
          "text": [
            "True\n"
          ]
        }
      ],
      "source": [
        "#YOUR ANSWER HERE\n",
        "s = \"abcd(efgh(ijkl}{{}))\"\n",
        "match= False\n",
        "if s.count('(') == s.count(')'):\n",
        "    if s.count('{') == s.count('}'):\n",
        "        if s.count('[') == s.count(']'):\n",
        "            match = True\n",
        "print(match)"
      ]
    },
    {
      "cell_type": "markdown",
      "source": [
        "**Answer**\n",
        " 3. True, the number of opening and closing brackets are considered only."
      ],
      "metadata": {
        "id": "sMkMXvqkMGzb"
      }
    },
    {
      "cell_type": "markdown",
      "source": [
        ""
      ],
      "metadata": {
        "id": "fZf3xnDUMDCd"
      }
    },
    {
      "cell_type": "markdown",
      "metadata": {
        "id": "SVfncYP5dABJ"
      },
      "source": [
        "## Programming Questions\n",
        "\n",
        "Instructions:\n",
        "- Enter your solution in the cell block below only. Double click to edit.\n",
        "- Do not edit anything else apart from 'YOUR ANSWER HERE' for your solution"
      ]
    },
    {
      "cell_type": "code",
      "execution_count": null,
      "metadata": {
        "id": "KFAmcF22dABJ"
      },
      "outputs": [],
      "source": [
        "#YOUR ANSWER HERE"
      ]
    },
    {
      "cell_type": "markdown",
      "metadata": {
        "id": "oJ8_mhBOdABK"
      },
      "source": [
        "### 5. Accept a sentence as input and find the number of words in it. Assume that the sentence has no punctuation marks (Total marks 2)\n",
        "\n",
        "\n",
        "Example:\n",
        "\n",
        "what a shot - 3 words\n",
        "\n",
        "this is a chair - 4 words"
      ]
    },
    {
      "cell_type": "code",
      "execution_count": null,
      "metadata": {
        "colab": {
          "base_uri": "https://localhost:8080/"
        },
        "id": "PGS2XYtEdABK",
        "outputId": "bb6d309e-956c-458d-fbc0-4bfd0de1ebfe"
      },
      "outputs": [
        {
          "output_type": "stream",
          "name": "stdout",
          "text": [
            " my name is asmita\n",
            " There are 4 words \n"
          ]
        }
      ],
      "source": [
        "#YOUR ANSWER HERE\n",
        "\n",
        "character = \"\"\n",
        "a_string = str(input(\" \"))\n",
        "a_string = a_string.replace(character,\"\")\n",
        "c = (a_string)\n",
        "result = len(a_string.split())   # string.split() for counting of words\n",
        "print(\" There are \" + str(result) + \" words \")"
      ]
    },
    {
      "cell_type": "markdown",
      "metadata": {
        "id": "CAmnN3oydABK"
      },
      "source": [
        "### 6. Sandwich number (Total marks 2)\n",
        "\n",
        "A three digit number is called a sandwich number if the difference between its first and last digit is equal to its middle digit. Accept a three digit number as input and print “sandwich” if the number is a sandwich number. Print “plain” if the number is not a sandwich number. For example, 123 and 853 are sandwich numbers."
      ]
    },
    {
      "cell_type": "code",
      "execution_count": null,
      "metadata": {
        "id": "066yCWE9dABL"
      },
      "outputs": [],
      "source": [
        "#YOUR ANSWER HERE"
      ]
    }
  ],
  "metadata": {
    "celltoolbar": "Create Assignment",
    "kernelspec": {
      "display_name": "Python 3 (ipykernel)",
      "language": "python",
      "name": "python3"
    },
    "language_info": {
      "codemirror_mode": {
        "name": "ipython",
        "version": 3
      },
      "file_extension": ".py",
      "mimetype": "text/x-python",
      "name": "python",
      "nbconvert_exporter": "python",
      "pygments_lexer": "ipython3",
      "version": "3.9.12"
    },
    "toc": {
      "base_numbering": 1,
      "nav_menu": {},
      "number_sections": true,
      "sideBar": true,
      "skip_h1_title": false,
      "title_cell": "Table of Contents",
      "title_sidebar": "Contents",
      "toc_cell": false,
      "toc_position": {},
      "toc_section_display": true,
      "toc_window_display": false
    },
    "varInspector": {
      "cols": {
        "lenName": 16,
        "lenType": 16,
        "lenVar": 40
      },
      "kernels_config": {
        "python": {
          "delete_cmd_postfix": "",
          "delete_cmd_prefix": "del ",
          "library": "var_list.py",
          "varRefreshCmd": "print(var_dic_list())"
        },
        "r": {
          "delete_cmd_postfix": ") ",
          "delete_cmd_prefix": "rm(",
          "library": "var_list.r",
          "varRefreshCmd": "cat(var_dic_list()) "
        }
      },
      "types_to_exclude": [
        "module",
        "function",
        "builtin_function_or_method",
        "instance",
        "_Feature"
      ],
      "window_display": false
    },
    "colab": {
      "name": "Asmita PW2_A1_mandatory_DS17 (1).ipynb",
      "provenance": [],
      "collapsed_sections": []
    }
  },
  "nbformat": 4,
  "nbformat_minor": 0
}